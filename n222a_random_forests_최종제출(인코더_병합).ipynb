{
  "nbformat": 4,
  "nbformat_minor": 0,
  "metadata": {
    "kernelspec": {
      "display_name": "Python 3",
      "language": "python",
      "name": "python3"
    },
    "language_info": {
      "codemirror_mode": {
        "name": "ipython",
        "version": 3
      },
      "file_extension": ".py",
      "mimetype": "text/x-python",
      "name": "python",
      "nbconvert_exporter": "python",
      "pygments_lexer": "ipython3",
      "version": "3.7.7"
    },
    "colab": {
      "name": "n222a-random-forests.최종제출(인코더 병합)",
      "provenance": [],
      "include_colab_link": true
    }
  },
  "cells": [
    {
      "cell_type": "markdown",
      "metadata": {
        "id": "view-in-github",
        "colab_type": "text"
      },
      "source": [
        "<a href=\"https://colab.research.google.com/github/YejuHAM/Yeju-Ham-project1/blob/main/n222a_random_forests_%EC%B5%9C%EC%A2%85%EC%A0%9C%EC%B6%9C(%EC%9D%B8%EC%BD%94%EB%8D%94_%EB%B3%91%ED%95%A9).ipynb\" target=\"_parent\"><img src=\"https://colab.research.google.com/assets/colab-badge.svg\" alt=\"Open In Colab\"/></a>"
      ]
    },
    {
      "cell_type": "markdown",
      "metadata": {
        "id": "T25YO53nBuj-"
      },
      "source": [
        "<img align=\"right\" src=\"https://ds-cs-images.s3.ap-northeast-2.amazonaws.com/Codestates_Fulllogo_Color.png\" width=100>\n",
        "\n",
        "## *DATA SCIENCE / SECTION 2 / SPRINT 2 / NOTE 2*\n",
        "\n",
        "# 📝 Assignment\n",
        "---"
      ]
    },
    {
      "cell_type": "markdown",
      "metadata": {
        "id": "7IXUfiQ2UKj6"
      },
      "source": [
        "# 랜덤포레스트(Random Forests)\n",
        "\n",
        "### 1) 캐글 대회를 이어서 진행합니다. EDA, 데이터 전처리 부분을 업데이트 하세요.\n",
        "- EDA는 항상 완벽할 수 없지요 한 주간 계속 같은 데이터로 과제를 진행하므로 부족한 부분을 추가하거나 논하세요.\n",
        "- (지금은 feature engineering에 너무 시간을 들이지 마세요!)\n",
        "- Ordinal Encoding을 적용해 보세요.\n",
        "- **(객관식) 다음 특성들 중에 순서를 고려한 Ordinal Encoding이 필요해 보이는 특성을 선택하고 과제 제출폼에 제출하세요.**\n",
        "    1. opinion_h1n1_vacc_effective\n",
        "    2. state\n",
        "    3. marital\n",
        "    4. employment_occupation\n"
      ]
    },
    {
      "cell_type": "code",
      "metadata": {
        "colab": {
          "base_uri": "https://localhost:8080/"
        },
        "id": "qGjNcJIA0Ite",
        "outputId": "0b03c137-f2ed-48af-cafa-4ef38b020d40"
      },
      "source": [
        "from google.colab import drive\n",
        "drive.mount('/gdrive', force_remount=True)"
      ],
      "execution_count": null,
      "outputs": [
        {
          "output_type": "stream",
          "text": [
            "Mounted at /gdrive\n"
          ],
          "name": "stdout"
        }
      ]
    },
    {
      "cell_type": "code",
      "metadata": {
        "id": "NtCcKlS0Bukn"
      },
      "source": [
        "!pip install category-encoders\n",
        "!pip install -U pandas-profiling"
      ],
      "execution_count": null,
      "outputs": []
    },
    {
      "cell_type": "code",
      "metadata": {
        "id": "X7oEhGmOCWjY"
      },
      "source": [
        "import pandas as pd\n",
        "import numpy as np\n",
        "import seaborn as sns\n",
        "import matplotlib.pyplot as plt\n",
        "\n",
        "\n",
        "from sklearn.model_selection import train_test_split\n",
        "from sklearn.metrics import mean_absolute_error, r2_score\n",
        "from sklearn.linear_model import LogisticRegression\n",
        "from category_encoders import OneHotEncoder\n",
        "from sklearn.impute import SimpleImputer\n",
        "from sklearn.pipeline import make_pipeline"
      ],
      "execution_count": null,
      "outputs": []
    },
    {
      "cell_type": "code",
      "metadata": {
        "id": "UY_JRspyCYdT"
      },
      "source": [
        "target = 'vacc_h1n1_f'\n",
        "\n",
        "train = pd.merge(pd.read_csv('/gdrive/MyDrive/Colab Notebooks/vaccine data/train_labels.csv'), \n",
        "                 pd.read_csv('/gdrive/MyDrive/Colab Notebooks/vaccine data/train.csv'), left_index=True, right_index=True)\n",
        "\n",
        "test = pd.read_csv('/gdrive/MyDrive/Colab Notebooks/vaccine data/test.csv')\n",
        "sample_submission = pd.read_csv('/gdrive/MyDrive/Colab Notebooks/vaccine data//submission.csv')"
      ],
      "execution_count": null,
      "outputs": []
    },
    {
      "cell_type": "code",
      "metadata": {
        "id": "gzSe0f5yCg2c",
        "colab": {
          "base_uri": "https://localhost:8080/"
        },
        "outputId": "ef9eb724-3ecf-4000-89e0-22bc2cd319ff"
      },
      "source": [
        "#훈련, 검증데이터 나누기\n",
        "train, val = train_test_split(train, test_size = 0.2, stratify = train[target], random_state = 2)\n",
        "#여기서 stratify는 train[target]의 비율과 동일하게 0과 1을 가지겠다라는 것\n",
        "\n",
        "print(train.shape, val.shape, test.shape)"
      ],
      "execution_count": null,
      "outputs": [
        {
          "output_type": "stream",
          "text": [
            "(33723, 40) (8431, 40) (28104, 38)\n"
          ],
          "name": "stdout"
        }
      ]
    },
    {
      "cell_type": "code",
      "metadata": {
        "id": "cQ6UPk8hCi5B"
      },
      "source": [
        "#결측치 확인\n",
        "train.isnull().sum() #매우 많은 -> 나중에 imputer로 처리"
      ],
      "execution_count": null,
      "outputs": []
    },
    {
      "cell_type": "code",
      "metadata": {
        "id": "9elo9QwEDAVB",
        "colab": {
          "base_uri": "https://localhost:8080/"
        },
        "outputId": "4d0de4ca-d3d4-47e7-9feb-32b8523dc316"
      },
      "source": [
        "#중복값 확인 \n",
        "train.T.duplicated().sum()  # =>중복값 없음"
      ],
      "execution_count": null,
      "outputs": [
        {
          "output_type": "execute_result",
          "data": {
            "text/plain": [
              "0"
            ]
          },
          "metadata": {
            "tags": []
          },
          "execution_count": 6
        }
      ]
    },
    {
      "cell_type": "code",
      "metadata": {
        "id": "ZoFCJEunDChP",
        "colab": {
          "base_uri": "https://localhost:8080/",
          "height": 399
        },
        "outputId": "81e0bbab-3232-4ce4-efaf-adf76eee7e2c"
      },
      "source": [
        "#cardinality확인\n",
        "train.describe(exclude='number').T.sort_values(by='unique')\n",
        "\n",
        "#state는 52개, employment_industry = 23, employment_occupation = 25"
      ],
      "execution_count": null,
      "outputs": [
        {
          "output_type": "execute_result",
          "data": {
            "text/html": [
              "<div>\n",
              "<style scoped>\n",
              "    .dataframe tbody tr th:only-of-type {\n",
              "        vertical-align: middle;\n",
              "    }\n",
              "\n",
              "    .dataframe tbody tr th {\n",
              "        vertical-align: top;\n",
              "    }\n",
              "\n",
              "    .dataframe thead th {\n",
              "        text-align: right;\n",
              "    }\n",
              "</style>\n",
              "<table border=\"1\" class=\"dataframe\">\n",
              "  <thead>\n",
              "    <tr style=\"text-align: right;\">\n",
              "      <th></th>\n",
              "      <th>count</th>\n",
              "      <th>unique</th>\n",
              "      <th>top</th>\n",
              "      <th>freq</th>\n",
              "    </tr>\n",
              "  </thead>\n",
              "  <tbody>\n",
              "    <tr>\n",
              "      <th>employment_status</th>\n",
              "      <td>25466</td>\n",
              "      <td>3</td>\n",
              "      <td>Employed</td>\n",
              "      <td>13722</td>\n",
              "    </tr>\n",
              "    <tr>\n",
              "      <th>census_msa</th>\n",
              "      <td>33583</td>\n",
              "      <td>3</td>\n",
              "      <td>MSA, Not Principle City</td>\n",
              "      <td>15116</td>\n",
              "    </tr>\n",
              "    <tr>\n",
              "      <th>opinion_h1n1_vacc_effective</th>\n",
              "      <td>26637</td>\n",
              "      <td>6</td>\n",
              "      <td>Somewhat Effective</td>\n",
              "      <td>11710</td>\n",
              "    </tr>\n",
              "    <tr>\n",
              "      <th>opinion_h1n1_risk</th>\n",
              "      <td>26602</td>\n",
              "      <td>6</td>\n",
              "      <td>Somewhat Low</td>\n",
              "      <td>9980</td>\n",
              "    </tr>\n",
              "    <tr>\n",
              "      <th>opinion_h1n1_sick_from_vacc</th>\n",
              "      <td>26568</td>\n",
              "      <td>6</td>\n",
              "      <td>Not Very Worried</td>\n",
              "      <td>9229</td>\n",
              "    </tr>\n",
              "    <tr>\n",
              "      <th>opinion_seas_vacc_effective</th>\n",
              "      <td>26519</td>\n",
              "      <td>6</td>\n",
              "      <td>Somewhat Effective</td>\n",
              "      <td>11571</td>\n",
              "    </tr>\n",
              "    <tr>\n",
              "      <th>opinion_seas_risk</th>\n",
              "      <td>26466</td>\n",
              "      <td>6</td>\n",
              "      <td>Somewhat Low</td>\n",
              "      <td>9057</td>\n",
              "    </tr>\n",
              "    <tr>\n",
              "      <th>opinion_seas_sick_from_vacc</th>\n",
              "      <td>26413</td>\n",
              "      <td>6</td>\n",
              "      <td>Not At All Worried</td>\n",
              "      <td>11813</td>\n",
              "    </tr>\n",
              "    <tr>\n",
              "      <th>agegrp</th>\n",
              "      <td>33583</td>\n",
              "      <td>7</td>\n",
              "      <td>65+ Years</td>\n",
              "      <td>6821</td>\n",
              "    </tr>\n",
              "    <tr>\n",
              "      <th>employment_industry</th>\n",
              "      <td>13714</td>\n",
              "      <td>23</td>\n",
              "      <td>Health Care and Social Assistance Industries</td>\n",
              "      <td>2451</td>\n",
              "    </tr>\n",
              "    <tr>\n",
              "      <th>employment_occupation</th>\n",
              "      <td>13714</td>\n",
              "      <td>25</td>\n",
              "      <td>Management Occupations</td>\n",
              "      <td>1769</td>\n",
              "    </tr>\n",
              "    <tr>\n",
              "      <th>state</th>\n",
              "      <td>33583</td>\n",
              "      <td>51</td>\n",
              "      <td>CALIFORNIA</td>\n",
              "      <td>828</td>\n",
              "    </tr>\n",
              "  </tbody>\n",
              "</table>\n",
              "</div>"
            ],
            "text/plain": [
              "                             count  ...   freq\n",
              "employment_status            25466  ...  13722\n",
              "census_msa                   33583  ...  15116\n",
              "opinion_h1n1_vacc_effective  26637  ...  11710\n",
              "opinion_h1n1_risk            26602  ...   9980\n",
              "opinion_h1n1_sick_from_vacc  26568  ...   9229\n",
              "opinion_seas_vacc_effective  26519  ...  11571\n",
              "opinion_seas_risk            26466  ...   9057\n",
              "opinion_seas_sick_from_vacc  26413  ...  11813\n",
              "agegrp                       33583  ...   6821\n",
              "employment_industry          13714  ...   2451\n",
              "employment_occupation        13714  ...   1769\n",
              "state                        33583  ...    828\n",
              "\n",
              "[12 rows x 4 columns]"
            ]
          },
          "metadata": {
            "tags": []
          },
          "execution_count": 10
        }
      ]
    },
    {
      "cell_type": "code",
      "metadata": {
        "id": "Kwy-7YqDDUZL"
      },
      "source": [
        "#피쳐와 타겟 분리\n",
        "features = train.drop(columns=[target]).columns\n",
        "\n",
        "#훈련/검증/테스트 데이터로 분리\n",
        "X_train = train[features]\n",
        "y_train =train[target]\n",
        "X_val = val[features]\n",
        "y_val = val[target]\n",
        "#X_test = test[features]\n",
        "#y_test에는 타겟값이 당연히 없음"
      ],
      "execution_count": null,
      "outputs": []
    },
    {
      "cell_type": "code",
      "metadata": {
        "id": "sfkTDfgzDXZQ",
        "colab": {
          "base_uri": "https://localhost:8080/"
        },
        "outputId": "947f4936-c572-4c9a-99e8-42aabda2f46f"
      },
      "source": [
        "print(y_train.value_counts(normalize=True))\n",
        "major = y_train.mode()\n",
        "y_pred = [major]*len(y_train)\n",
        "\n",
        "from sklearn.metrics import accuracy_score\n",
        "print('기준모델 정확도:', accuracy_score(y_train, y_pred))\n",
        "#이걸 굳이 안해봐도 분류의 기준모델은 더 많은 쪽의 비중이다."
      ],
      "execution_count": null,
      "outputs": [
        {
          "output_type": "stream",
          "text": [
            "0    0.760935\n",
            "1    0.239065\n",
            "Name: vacc_h1n1_f, dtype: float64\n",
            "기준모델 정확도: 0.7609346736648578\n"
          ],
          "name": "stdout"
        }
      ]
    },
    {
      "cell_type": "markdown",
      "metadata": {
        "id": "2eHwo9YAFZjt"
      },
      "source": [
        "#여기서부터 전과제와 달라지는 부분\n"
      ]
    },
    {
      "cell_type": "markdown",
      "metadata": {
        "id": "PWh0K8FwZOMU"
      },
      "source": [
        "문제) 다음 특성들 중에 순서를 고려한 Ordinal Encoding이 필요해 보이는 특성을 선택하고 과제 제출폼에 제출하세요.\n",
        "\n",
        "opinion_h1n1_vacc_effective\n",
        "state\n",
        "marital\n",
        "employment_occupation\n",
        "\n",
        "풀이: Ordinal Encoding은 중요도, 순번 등 '순서'에 가치부여가 필요한 특성이 좋다. "
      ]
    },
    {
      "cell_type": "code",
      "metadata": {
        "id": "FcKK675BZoBl"
      },
      "source": [
        "#1) opinion_h1n1_effective\n",
        "print('1)opinion_h1n1_effective\\n')\n",
        "print(train[\"opinion_h1n1_vacc_effective\"].value_counts())\n",
        "print('5가지 순서로 효과를 측정함. 이는 순서가 중요한 칼럼이다.')\n",
        "\n",
        "#2) state\n",
        "print('\\n2)state\\n')\n",
        "print(train['state'].value_counts())\n",
        "print('주는 그냥 미국 내의 주를 나타냄 각각이 독립적인 레벨이다.\\ncardinality문제때문에 ordinal로 순서를 매기는 것이 좋으나 이건은 우위나 순서가 있지 않다.')\n",
        "\n",
        "#3) martial\n",
        "print('\\n3)marital')\n",
        "print(train['marital'].value_counts())\n",
        "print('결혼여부, ordinal 필요없음. binary데이터')\n",
        "\n",
        "#4) employment_occupation\n",
        "print('\\n4)employment_occupation')\n",
        "print(train['marital'].value_counts())\n",
        "print('주랑 비슷함')"
      ],
      "execution_count": null,
      "outputs": []
    },
    {
      "cell_type": "code",
      "metadata": {
        "id": "ctQYtWMJenor"
      },
      "source": [
        "#EDA연습\n",
        "\n",
        "#1. 지역관련 칼럼 통합\n",
        "#미국에서는 관할구역을 지정하고 Branch office를 설치해 운영한다. \n",
        "#백신은 보건곤련 정보이다. \n",
        "\n",
        "X_train['hhs_region'].value_counts().sort_index()\n",
        "\n",
        "#census_region, census_msa 인구 밀도/분포와 관련되어 있다. ->더 관련이 높은 region만 남김\n",
        "X_train = X_train.drop(columns = ['census_msa'], axis = 1)\n",
        "X_val = X_val.drop(columns = ['census_msa'], axis = 1)\n",
        "test = test.drop(columns = ['census_msa'], axis = 1)\n",
        "\n"
      ],
      "execution_count": null,
      "outputs": []
    },
    {
      "cell_type": "code",
      "metadata": {
        "id": "G2xw3ZH0jRh_"
      },
      "source": [
        "#2. 거주 구성원 - 어른/아이 확인\n",
        "X_train[[\"n_adult_r\", \"household_children\", \"n_people_r\"]].describe()\n",
        "\n",
        "#가족 구성원 중 어린이 인원의 비율 칼럼 만들기\n",
        "X_train['proportion_child'] = round(X_train['household_children']/X_train['n_people_r']*100,1)\n",
        "X_val['proportion_child'] = round(X_val['household_children']/X_val['n_people_r']*100,1)\n",
        "test['proportion_child'] = round(test['household_children']/test['n_people_r']*100,1)\n"
      ],
      "execution_count": null,
      "outputs": []
    },
    {
      "cell_type": "code",
      "metadata": {
        "colab": {
          "base_uri": "https://localhost:8080/"
        },
        "id": "cDSUNtf2kppT",
        "outputId": "e8c1e8ff-9766-47d5-9c2e-89984d34f63a"
      },
      "source": [
        "X_train.shape, X_val.shape, test.shape"
      ],
      "execution_count": null,
      "outputs": [
        {
          "output_type": "execute_result",
          "data": {
            "text/plain": [
              "((33723, 39), (8431, 39), (28104, 38))"
            ]
          },
          "metadata": {
            "tags": []
          },
          "execution_count": 49
        }
      ]
    },
    {
      "cell_type": "code",
      "metadata": {
        "id": "2uVbVdtcTvJA"
      },
      "source": [
        "from category_encoders import OrdinalEncoder\n",
        "from sklearn.tree import DecisionTreeClassifier"
      ],
      "execution_count": null,
      "outputs": []
    },
    {
      "cell_type": "markdown",
      "metadata": {
        "id": "N4xETL6blk3L"
      },
      "source": [
        "#매우 중요하고 궁금했던 부분:\n",
        "#특성별로 인코더를 따로 지정할 수 있을까?"
      ]
    },
    {
      "cell_type": "code",
      "metadata": {
        "id": "ukRHXjVbmFFa"
      },
      "source": [
        "#필요없는 두 번째 타겟변수 드랍\n",
        "X_train = X_train.drop(['vacc_seas_f'], axis = 1)\n",
        "X_val = X_val.drop(['vacc_seas_f'], axis = 1)"
      ],
      "execution_count": null,
      "outputs": []
    },
    {
      "cell_type": "code",
      "metadata": {
        "id": "J8n651D5lsMJ"
      },
      "source": [
        "#one-hot할 특성\n",
        "onehot = ['agegrp','employment_status']\n",
        "\n",
        "#ordinal 할 특성\n",
        "ordinal = ['opinion_h1n1_vacc_effective','opinion_h1n1_risk','opinion_h1n1_sick_from_vacc',\n",
        "           'opinion_seas_vacc_effective','opinion_seas_risk','opinion_seas_sick_from_vacc','employment_industry',\t'employment_occupation',\t'state' ]\n",
        "\n",
        "           #employment_industry,\temployment_occupation,\tstate 는 순서형 데이터는 아니지만 레벨이 너무 많아서 과적합 될 것 같아, ordinal로 넣음. 후에 해석시 주의의"
      ],
      "execution_count": null,
      "outputs": []
    },
    {
      "cell_type": "code",
      "metadata": {
        "colab": {
          "base_uri": "https://localhost:8080/"
        },
        "id": "UTu0yPu7qRGO",
        "outputId": "5aaef4f0-5ff1-4244-91c0-273da2761a00"
      },
      "source": [
        "from sklearn.ensemble import RandomForestClassifier\n",
        "from sklearn.metrics import f1_score\n",
        "\n",
        "# 1)모든 특성을 일괄적으로 onehotencoding\n",
        "pipe1 = make_pipeline(\n",
        "    OneHotEncoder(use_cat_names=True),\n",
        "    SimpleImputer(),\n",
        "    RandomForestClassifier(n_jobs = -1, random_state = 10, oob_score = True)\n",
        ")\n",
        "\n",
        "pipe1.fit(X_train, y_train)\n",
        "print('원핫인코딩 검증 정확도:', pipe1.score(X_val, y_val))\n",
        "\n",
        "y_pred1 = pipe1.predict(X_val)\n",
        "print('원핫인코딩 검증 f1:', f1_score(y_val, y_pred1))"
      ],
      "execution_count": null,
      "outputs": [
        {
          "output_type": "stream",
          "text": [
            "/usr/local/lib/python3.7/dist-packages/category_encoders/utils.py:21: FutureWarning: is_categorical is deprecated and will be removed in a future version.  Use is_categorical_dtype instead\n",
            "  elif pd.api.types.is_categorical(cols):\n"
          ],
          "name": "stderr"
        },
        {
          "output_type": "stream",
          "text": [
            "원핫인코딩 검증 정확도: 0.8303878543470525\n",
            "원핫인코딩 검증 f1: 0.560540872771973\n"
          ],
          "name": "stdout"
        }
      ]
    },
    {
      "cell_type": "code",
      "metadata": {
        "colab": {
          "base_uri": "https://localhost:8080/"
        },
        "id": "aysNwp0UrHnX",
        "outputId": "7915c43c-d248-455f-f63f-df4645afe700"
      },
      "source": [
        "# 2. 모든 특성을 일괄적으로 OrdinalEncoding\n",
        "pipe2 = make_pipeline(\n",
        "    OrdinalEncoder(), \n",
        "    SimpleImputer(), \n",
        "    RandomForestClassifier(n_jobs=-1, random_state=10, oob_score=True)\n",
        ")\n",
        "\n",
        "pipe2.fit(X_train, y_train)\n",
        "print('검증 정확도: ', pipe2.score(X_val, y_val))\n",
        "\n",
        "y_pred2 = pipe2.predict(X_val)\n",
        "print('검증 f1: ', f1_score(y_val, y_pred2))"
      ],
      "execution_count": null,
      "outputs": [
        {
          "output_type": "stream",
          "text": [
            "검증 정확도:  0.8273039971533626\n",
            "검증 f1:  0.5587878787878787\n"
          ],
          "name": "stdout"
        }
      ]
    },
    {
      "cell_type": "code",
      "metadata": {
        "colab": {
          "base_uri": "https://localhost:8080/"
        },
        "id": "wLSDibK8rkyC",
        "outputId": "0fa97613-86c9-4e16-ae3c-f77d539b77d7"
      },
      "source": [
        "# 3. 인코딩 병합\n",
        "pipe3 = make_pipeline(\n",
        "    OneHotEncoder(use_cat_names=True, cols = onehot),\n",
        "    OrdinalEncoder(cols = ordinal),\n",
        "    SimpleImputer(),\n",
        "    RandomForestClassifier(n_jobs=-1, random_state=10, oob_score=True)\n",
        ")\n",
        "\n",
        "pipe3.fit(X_train, y_train)\n",
        "print('검증 정확도: ', pipe3.score(X_val, y_val))\n",
        "\n",
        "y_pred3 = pipe3.predict(X_val)\n",
        "print('검증 f1: ', f1_score(y_val, y_pred3))"
      ],
      "execution_count": null,
      "outputs": [
        {
          "output_type": "stream",
          "text": [
            "/usr/local/lib/python3.7/dist-packages/category_encoders/utils.py:21: FutureWarning: is_categorical is deprecated and will be removed in a future version.  Use is_categorical_dtype instead\n",
            "  elif pd.api.types.is_categorical(cols):\n",
            "/usr/local/lib/python3.7/dist-packages/category_encoders/utils.py:21: FutureWarning: is_categorical is deprecated and will be removed in a future version.  Use is_categorical_dtype instead\n",
            "  elif pd.api.types.is_categorical(cols):\n"
          ],
          "name": "stderr"
        },
        {
          "output_type": "stream",
          "text": [
            "검증 정확도:  0.8268295575851026\n",
            "검증 f1:  0.5529699938763013\n"
          ],
          "name": "stdout"
        }
      ]
    },
    {
      "cell_type": "code",
      "metadata": {
        "colab": {
          "base_uri": "https://localhost:8080/"
        },
        "id": "po2syflZse_p",
        "outputId": "d3132ad3-8cb6-44e1-8150-bf43373af295"
      },
      "source": [
        "# 4. 인코딩 병합 + 파라미터 조정\n",
        "pipe4 = make_pipeline(\n",
        "    OneHotEncoder(use_cat_names=True, cols = onehot),\n",
        "    OrdinalEncoder(cols = ordinal),\n",
        "    SimpleImputer(),\n",
        "    RandomForestClassifier(n_jobs=-1, random_state=10, oob_score=True, max_depth=10)\n",
        ")\n",
        "\n",
        "pipe4.fit(X_train, y_train)\n",
        "print('검증 정확도: ', pipe4.score(X_val, y_val))\n",
        "\n",
        "y_pred4 = pipe4.predict(X_val)\n",
        "print('검증 f1: ', f1_score(y_val, y_pred4))"
      ],
      "execution_count": null,
      "outputs": [
        {
          "output_type": "stream",
          "text": [
            "/usr/local/lib/python3.7/dist-packages/category_encoders/utils.py:21: FutureWarning: is_categorical is deprecated and will be removed in a future version.  Use is_categorical_dtype instead\n",
            "  elif pd.api.types.is_categorical(cols):\n",
            "/usr/local/lib/python3.7/dist-packages/category_encoders/utils.py:21: FutureWarning: is_categorical is deprecated and will be removed in a future version.  Use is_categorical_dtype instead\n",
            "  elif pd.api.types.is_categorical(cols):\n"
          ],
          "name": "stderr"
        },
        {
          "output_type": "stream",
          "text": [
            "검증 정확도:  0.8280156565057526\n",
            "검증 f1:  0.5236530880420499\n"
          ],
          "name": "stdout"
        }
      ]
    },
    {
      "cell_type": "markdown",
      "metadata": {
        "id": "nIrdiXd_tCLy"
      },
      "source": [
        "#아래는 내가 해본 것들"
      ]
    },
    {
      "cell_type": "code",
      "metadata": {
        "colab": {
          "base_uri": "https://localhost:8080/",
          "height": 674
        },
        "id": "SyU9ERAnpZ_C",
        "outputId": "a4ed3af0-9289-4f27-e25e-b7bc5bb20974"
      },
      "source": [
        "X_train.select_dtypes(include = 'object')"
      ],
      "execution_count": null,
      "outputs": [
        {
          "output_type": "execute_result",
          "data": {
            "text/html": [
              "<div>\n",
              "<style scoped>\n",
              "    .dataframe tbody tr th:only-of-type {\n",
              "        vertical-align: middle;\n",
              "    }\n",
              "\n",
              "    .dataframe tbody tr th {\n",
              "        vertical-align: top;\n",
              "    }\n",
              "\n",
              "    .dataframe thead th {\n",
              "        text-align: right;\n",
              "    }\n",
              "</style>\n",
              "<table border=\"1\" class=\"dataframe\">\n",
              "  <thead>\n",
              "    <tr style=\"text-align: right;\">\n",
              "      <th></th>\n",
              "      <th>opinion_h1n1_vacc_effective</th>\n",
              "      <th>opinion_h1n1_risk</th>\n",
              "      <th>opinion_h1n1_sick_from_vacc</th>\n",
              "      <th>opinion_seas_vacc_effective</th>\n",
              "      <th>opinion_seas_risk</th>\n",
              "      <th>opinion_seas_sick_from_vacc</th>\n",
              "      <th>agegrp</th>\n",
              "      <th>employment_status</th>\n",
              "      <th>employment_industry</th>\n",
              "      <th>employment_occupation</th>\n",
              "      <th>state</th>\n",
              "    </tr>\n",
              "  </thead>\n",
              "  <tbody>\n",
              "    <tr>\n",
              "      <th>20365</th>\n",
              "      <td>Somewhat Effective</td>\n",
              "      <td>Somewhat Low</td>\n",
              "      <td>Not At All Worried</td>\n",
              "      <td>Very Effective</td>\n",
              "      <td>Somewhat Low</td>\n",
              "      <td>Not At All Worried</td>\n",
              "      <td>18 - 34 Years</td>\n",
              "      <td>Employed</td>\n",
              "      <td>Professional, Scientific, and Technical Servic...</td>\n",
              "      <td>Office and Administrative Support Occupations</td>\n",
              "      <td>NEW JERSEY</td>\n",
              "    </tr>\n",
              "    <tr>\n",
              "      <th>29138</th>\n",
              "      <td>Somewhat Effective</td>\n",
              "      <td>Somewhat High</td>\n",
              "      <td>Not Very Worried</td>\n",
              "      <td>Somewhat Effective</td>\n",
              "      <td>Somewhat Low</td>\n",
              "      <td>Not Very Worried</td>\n",
              "      <td>35 - 44 Years</td>\n",
              "      <td>Unemployed</td>\n",
              "      <td>NaN</td>\n",
              "      <td>NaN</td>\n",
              "      <td>IOWA</td>\n",
              "    </tr>\n",
              "    <tr>\n",
              "      <th>36128</th>\n",
              "      <td>Not Very Effective</td>\n",
              "      <td>Very Low</td>\n",
              "      <td>Dont Know</td>\n",
              "      <td>Somewhat Effective</td>\n",
              "      <td>Very Low</td>\n",
              "      <td>Very Worried</td>\n",
              "      <td>65+ Years</td>\n",
              "      <td>Not in Labor Force</td>\n",
              "      <td>NaN</td>\n",
              "      <td>NaN</td>\n",
              "      <td>OREGON</td>\n",
              "    </tr>\n",
              "    <tr>\n",
              "      <th>39793</th>\n",
              "      <td>Very Effective</td>\n",
              "      <td>Somewhat Low</td>\n",
              "      <td>Not Very Worried</td>\n",
              "      <td>Somewhat Effective</td>\n",
              "      <td>Very Low</td>\n",
              "      <td>Not At All Worried</td>\n",
              "      <td>55 - 64 Years</td>\n",
              "      <td>Employed</td>\n",
              "      <td>Arts, Entertainment, and Recreation Industries...</td>\n",
              "      <td>Business and Financial Operations Occupations</td>\n",
              "      <td>IOWA</td>\n",
              "    </tr>\n",
              "    <tr>\n",
              "      <th>32973</th>\n",
              "      <td>Not At All Effective</td>\n",
              "      <td>Somewhat Low</td>\n",
              "      <td>Not At All Worried</td>\n",
              "      <td>Not At All Effective</td>\n",
              "      <td>Very Low</td>\n",
              "      <td>Not At All Worried</td>\n",
              "      <td>18 - 34 Years</td>\n",
              "      <td>Not in Labor Force</td>\n",
              "      <td>NaN</td>\n",
              "      <td>NaN</td>\n",
              "      <td>IOWA</td>\n",
              "    </tr>\n",
              "    <tr>\n",
              "      <th>...</th>\n",
              "      <td>...</td>\n",
              "      <td>...</td>\n",
              "      <td>...</td>\n",
              "      <td>...</td>\n",
              "      <td>...</td>\n",
              "      <td>...</td>\n",
              "      <td>...</td>\n",
              "      <td>...</td>\n",
              "      <td>...</td>\n",
              "      <td>...</td>\n",
              "      <td>...</td>\n",
              "    </tr>\n",
              "    <tr>\n",
              "      <th>8747</th>\n",
              "      <td>NaN</td>\n",
              "      <td>NaN</td>\n",
              "      <td>NaN</td>\n",
              "      <td>NaN</td>\n",
              "      <td>NaN</td>\n",
              "      <td>NaN</td>\n",
              "      <td>6 Months - 9 Years</td>\n",
              "      <td>NaN</td>\n",
              "      <td>NaN</td>\n",
              "      <td>NaN</td>\n",
              "      <td>ILLINOIS</td>\n",
              "    </tr>\n",
              "    <tr>\n",
              "      <th>4412</th>\n",
              "      <td>Not Very Effective</td>\n",
              "      <td>Somewhat High</td>\n",
              "      <td>Very Worried</td>\n",
              "      <td>Not Very Effective</td>\n",
              "      <td>Very High</td>\n",
              "      <td>Very Worried</td>\n",
              "      <td>55 - 64 Years</td>\n",
              "      <td>Not in Labor Force</td>\n",
              "      <td>NaN</td>\n",
              "      <td>NaN</td>\n",
              "      <td>INDIANA</td>\n",
              "    </tr>\n",
              "    <tr>\n",
              "      <th>19064</th>\n",
              "      <td>NaN</td>\n",
              "      <td>NaN</td>\n",
              "      <td>NaN</td>\n",
              "      <td>NaN</td>\n",
              "      <td>NaN</td>\n",
              "      <td>NaN</td>\n",
              "      <td>6 Months - 9 Years</td>\n",
              "      <td>NaN</td>\n",
              "      <td>NaN</td>\n",
              "      <td>NaN</td>\n",
              "      <td>GEORGIA</td>\n",
              "    </tr>\n",
              "    <tr>\n",
              "      <th>40906</th>\n",
              "      <td>NaN</td>\n",
              "      <td>NaN</td>\n",
              "      <td>NaN</td>\n",
              "      <td>NaN</td>\n",
              "      <td>NaN</td>\n",
              "      <td>NaN</td>\n",
              "      <td>10 - 17 Years</td>\n",
              "      <td>NaN</td>\n",
              "      <td>NaN</td>\n",
              "      <td>NaN</td>\n",
              "      <td>MONTANA</td>\n",
              "    </tr>\n",
              "    <tr>\n",
              "      <th>30904</th>\n",
              "      <td>Dont Know</td>\n",
              "      <td>Somewhat Low</td>\n",
              "      <td>Somewhat Worried</td>\n",
              "      <td>Somewhat Effective</td>\n",
              "      <td>Somewhat Low</td>\n",
              "      <td>Not Very Worried</td>\n",
              "      <td>45 - 54 Years</td>\n",
              "      <td>Not in Labor Force</td>\n",
              "      <td>NaN</td>\n",
              "      <td>NaN</td>\n",
              "      <td>MISSISSIPPI</td>\n",
              "    </tr>\n",
              "  </tbody>\n",
              "</table>\n",
              "<p>33723 rows × 11 columns</p>\n",
              "</div>"
            ],
            "text/plain": [
              "      opinion_h1n1_vacc_effective  ...        state\n",
              "20365          Somewhat Effective  ...   NEW JERSEY\n",
              "29138          Somewhat Effective  ...         IOWA\n",
              "36128          Not Very Effective  ...       OREGON\n",
              "39793              Very Effective  ...         IOWA\n",
              "32973        Not At All Effective  ...         IOWA\n",
              "...                           ...  ...          ...\n",
              "8747                          NaN  ...     ILLINOIS\n",
              "4412           Not Very Effective  ...      INDIANA\n",
              "19064                         NaN  ...      GEORGIA\n",
              "40906                         NaN  ...      MONTANA\n",
              "30904                   Dont Know  ...  MISSISSIPPI\n",
              "\n",
              "[33723 rows x 11 columns]"
            ]
          },
          "metadata": {
            "tags": []
          },
          "execution_count": 62
        }
      ]
    },
    {
      "cell_type": "code",
      "metadata": {
        "colab": {
          "base_uri": "https://localhost:8080/"
        },
        "id": "boUGndt7mlJz",
        "outputId": "fa26c4c9-c449-4883-8a87-6edbf303f07d"
      },
      "source": [
        "X_train['employment_status'].value_counts()"
      ],
      "execution_count": null,
      "outputs": [
        {
          "output_type": "execute_result",
          "data": {
            "text/plain": [
              "Employed              13722\n",
              "Not in Labor Force    10254\n",
              "Unemployed             1490\n",
              "Name: employment_status, dtype: int64"
            ]
          },
          "metadata": {
            "tags": []
          },
          "execution_count": 64
        }
      ]
    },
    {
      "cell_type": "code",
      "metadata": {
        "id": "mXdWYCgRG5bu",
        "colab": {
          "base_uri": "https://localhost:8080/"
        },
        "outputId": "20a2dad1-3c28-4535-cae2-ccde87c82617"
      },
      "source": [
        "#결정트리 One-hot-encoding모델\n",
        "pipe = make_pipeline(\n",
        "    OneHotEncoder(use_cat_names=True),\n",
        "    SimpleImputer(),\n",
        "    DecisionTreeClassifier(max_depth=5, random_state = 2))\n",
        "\n",
        "pipe.fit(X_train, y_train)\n",
        "\n",
        "print('훈련 정확도:', pipe.score(X_train, y_train))\n",
        "print('검증 정확도:', pipe.score(X_val, y_val))"
      ],
      "execution_count": null,
      "outputs": [
        {
          "output_type": "stream",
          "text": [
            "/usr/local/lib/python3.7/dist-packages/category_encoders/utils.py:21: FutureWarning: is_categorical is deprecated and will be removed in a future version.  Use is_categorical_dtype instead\n",
            "  elif pd.api.types.is_categorical(cols):\n"
          ],
          "name": "stderr"
        },
        {
          "output_type": "stream",
          "text": [
            "훈련 정확도: 0.8237701272128815\n",
            "검증 정확도: 0.8231526509310877\n"
          ],
          "name": "stdout"
        }
      ]
    },
    {
      "cell_type": "code",
      "metadata": {
        "id": "Er_GjXPsFYsH",
        "colab": {
          "base_uri": "https://localhost:8080/"
        },
        "outputId": "d1baf113-3d83-4685-9341-37ece941e5fd"
      },
      "source": [
        "#결정트리 & Oridinal encoding 적용\n",
        "from category_encoders import OrdinalEncoder\n",
        "from sklearn.tree import DecisionTreeClassifier\n",
        "\n",
        "pipe = make_pipeline(\n",
        "    OrdinalEncoder(), \n",
        "    SimpleImputer(), \n",
        "    DecisionTreeClassifier(random_state=2, max_depth = 5)\n",
        ")\n",
        "\n",
        "pipe.fit(X_train, y_train)\n",
        "\n",
        "print('훈련 정확도:', pipe.score(X_train, y_train))\n",
        "print('검증 정확도:', pipe.score(X_val, y_val))\n",
        "print('신기한게, Ordinal encoding에서는 훈련정확도보다 검증정확도가 더 높게 나옴. \\n그러나 얘네는 onehot을 사용한 것보다는 전체적으로 정확도가 떨어짐 ')"
      ],
      "execution_count": null,
      "outputs": [
        {
          "output_type": "stream",
          "text": [
            "훈련 정확도: 0.8151445671917339\n",
            "검증 정확도: 0.8194757442770727\n",
            "신기한게, Ordinal encoding에서는 훈련정확도보다 검증정확도가 더 높게 나옴. \n",
            "그러나 얘네는 onehot을 사용한 것보다는 전체적으로 정확도가 떨어짐 \n"
          ],
          "name": "stdout"
        }
      ]
    },
    {
      "cell_type": "markdown",
      "metadata": {
        "id": "5PF7uib4Bukq"
      },
      "source": [
        "### 2) 랜덤포레스트 모델을 적용한 후의 결과를 캐글에 제출하세요.\n",
        "- 랜덤포레스트를 적용하고 성능이 오히려 떨어졌을 수도 있습니다! 만약 그렇다면 이유를 본인 논리로 분석해 보세요.\n",
        "- **캐글 Leaderboard의 본인 Score를 과제 제출폼에 제출하세요.**"
      ]
    },
    {
      "cell_type": "code",
      "metadata": {
        "id": "hlDI2jb844oo",
        "colab": {
          "base_uri": "https://localhost:8080/"
        },
        "outputId": "807cff7c-9db8-4e57-f35c-fe61a58e3e7b"
      },
      "source": [
        "#랜덤포레스트 & One-Hot 인코딩\n",
        "from sklearn.ensemble import RandomForestClassifier\n",
        "\n",
        "pipe_rd = make_pipeline(\n",
        "    OneHotEncoder(use_cat_names = True),\n",
        "    SimpleImputer(),\n",
        "    RandomForestClassifier(n_jobs = -1, random_state = 2, oob_score= True)\n",
        ")\n",
        "\n",
        "pipe_rd.fit(X_train, y_train)\n",
        "print('랜덤포레스트 & 원핫 검증정확도:', pipe_rd.score(X_val, y_val))"
      ],
      "execution_count": null,
      "outputs": [
        {
          "output_type": "stream",
          "text": [
            "/usr/local/lib/python3.7/dist-packages/category_encoders/utils.py:21: FutureWarning: is_categorical is deprecated and will be removed in a future version.  Use is_categorical_dtype instead\n",
            "  elif pd.api.types.is_categorical(cols):\n"
          ],
          "name": "stderr"
        },
        {
          "output_type": "stream",
          "text": [
            "랜덤포레스트 & 원핫 검증정확도: 0.8255248487723876\n"
          ],
          "name": "stdout"
        }
      ]
    },
    {
      "cell_type": "code",
      "metadata": {
        "id": "XDr8Z9fvBukr",
        "colab": {
          "base_uri": "https://localhost:8080/"
        },
        "outputId": "4fec867f-bb9a-4e41-deb8-b20864a853a7"
      },
      "source": [
        "#랜덤포레스트 모델 적용하기\n",
        "from sklearn.ensemble import RandomForestClassifier\n",
        "from sklearn.ensemble import RandomForestClassifier\n",
        "\n",
        "pipe_or = make_pipeline(\n",
        "    OrdinalEncoder(),\n",
        "    SimpleImputer(),\n",
        "    RandomForestClassifier(n_jobs = -1, random_state = 2, oob_score= True)\n",
        ")\n",
        "\n",
        "pipe_or.fit(X_train, y_train)\n",
        "print('랜덤 포레스트 & Ordinal 검증정확도:', pipe_or.score(X_val, y_val))\n",
        "print('랜덤 포레스트와 Ordinal 사용하니까 검증정확도에서는 약간 정확도가 떨어짐 ')\n",
        "\n",
        "#여기서 attribute인 oob_score는 out-of-bag estimate사용하냐 안하냐를 나타내는 것\n",
        "\n",
        "\n",
        "#근데 만약 성능이 떨어졌다고 하면 이는 무슨의미인지?"
      ],
      "execution_count": null,
      "outputs": [
        {
          "output_type": "stream",
          "text": [
            "랜덤 포레스트 & Ordinal 검증정확도: 0.8236270904993477\n",
            "랜덤 포레스트와 Ordinal 사용하니까 검증정확도에서는 약간 정확도가 떨어짐 \n"
          ],
          "name": "stdout"
        }
      ]
    },
    {
      "cell_type": "code",
      "metadata": {
        "id": "M5w-lVPBUblp",
        "colab": {
          "base_uri": "https://localhost:8080/"
        },
        "outputId": "96a071c0-8e0c-4eb5-da95-c5df9dd84d27"
      },
      "source": [
        "#훈련, 검증 세트 스코어 확인(F1스코어)\n",
        "\n",
        "from sklearn.metrics import f1_score\n",
        "\n",
        "y_pred_train = pipe_or.predict(X_train)\n",
        "y_pred_val = pipe_or.predict(X_val)\n",
        "\n",
        "print('훈련세트 f1 score:', f1_score(y_train, y_pred_train))\n",
        "print('검증세트 f1 score:', f1_score(y_val, y_pred_val))\n",
        "\n",
        "#너무 과적합임 다시 파라미터 조정해보기"
      ],
      "execution_count": null,
      "outputs": [
        {
          "output_type": "stream",
          "text": [
            "훈련세트 f1 score: 0.9940761987902974\n",
            "검증세트 f1 score: 0.5453989605625191\n"
          ],
          "name": "stdout"
        }
      ]
    },
    {
      "cell_type": "code",
      "metadata": {
        "id": "DOAbJ0aQVnFg",
        "colab": {
          "base_uri": "https://localhost:8080/"
        },
        "outputId": "f7326e6d-20a1-485c-8e6d-e4abcf6b643c"
      },
      "source": [
        "#성능 높여보기(시도1)\n",
        "pipe_or = make_pipeline(\n",
        "    OrdinalEncoder(),\n",
        "    SimpleImputer(),\n",
        "    RandomForestClassifier(n_jobs = -1, random_state = 2, oob_score= True, max_depth=25, min_samples_leaf= 3)\n",
        ")\n",
        "\n",
        "pipe_or.fit(X_train, y_train)\n",
        "print('랜덤 포레스트 & Ordinal 검증정확도:', pipe_or.score(X_val, y_val))\n",
        "\n",
        "y_pred_train = pipe_or.predict(X_train)\n",
        "y_pred_val = pipe_or.predict(X_val)\n",
        "\n",
        "print('훈련세트 f1 score:', f1_score(y_train, y_pred_train))\n",
        "print('검증세트 f1 score:', f1_score(y_val, y_pred_val))"
      ],
      "execution_count": null,
      "outputs": [
        {
          "output_type": "stream",
          "text": [
            "랜덤 포레스트 & Ordinal 검증정확도: 0.8313367334835725\n",
            "훈련세트 f1 score: 0.7602664519434887\n",
            "검증세트 f1 score: 0.560840024706609\n"
          ],
          "name": "stdout"
        }
      ]
    },
    {
      "cell_type": "code",
      "metadata": {
        "id": "69fkia084LC5",
        "colab": {
          "base_uri": "https://localhost:8080/",
          "height": 368
        },
        "outputId": "9c39105f-09a0-4fdd-ef7b-d0c951126e7f"
      },
      "source": [
        "#랜덤 포레스트의 특성 중요도 비교(onehot vs ordinal)\n",
        "\n",
        "#특성 중요도 one-hot\n",
        "rf_onehot = pipe_rd.named_steps['randomforestclassifier']\n",
        "colnames = pipe_rd.named_steps['onehotencoder'].get_feature_names()\n",
        "importances = pd.Series(rf_onehot.feature_importances_, colnames)\n",
        "\n",
        "n=10\n",
        "plt.figure(figsize =(10,n/4))\n",
        "plt.title('Top features with onehotencoder')\n",
        "importances.sort_values()[-10:].plot.barh();\n",
        "\n",
        "#특성중요도 ordinal\n",
        "rf_ordinal = pipe_or.named_steps['randomforestclassifier']\n",
        "colnames = pipe_or.named_steps['ordinalencoder'].get_feature_names()\n",
        "importances = pd.Series(rf_ordinal.feature_importances_, colnames)\n",
        "\n",
        "plt.figure(figsize =(10,n/4))\n",
        "plt.title('Top features with ordinal encoder')\n",
        "importances.sort_values()[-10:].plot.barh();"
      ],
      "execution_count": null,
      "outputs": [
        {
          "output_type": "display_data",
          "data": {
            "image/png": "[encoded data removed]",
            "text/plain": [
              "<Figure size 720x180 with 1 Axes>"
            ]
          },
          "metadata": {
            "tags": [],
            "needs_background": "light"
          }
        },
        {
          "output_type": "display_data",
          "data": {
            "image/png": "[encoded data removed]",
            "text/plain": [
              "<Figure size 720x180 with 1 Axes>"
            ]
          },
          "metadata": {
            "tags": [],
            "needs_background": "light"
          }
        }
      ]
    },
    {
      "cell_type": "markdown",
      "metadata": {
        "id": "qEIs9Iry6-7E"
      },
      "source": [
        "인코딩을 다르게 해 본 결과 ordinal인코딩에서 state, opinion_h1n1_risk, agegrp 등의 결과가 불순도를 걸러주는 중요한 피쳐인 것을 알 수 있음 \n"
      ]
    },
    {
      "cell_type": "markdown",
      "metadata": {
        "id": "RnO3dJjG8G2U"
      },
      "source": [
        "ordinalencoder를 사용해 무작위로 수치에 번호를 매기는 인코딩을 했지만, 범주의 순위를 정확하게 알고 있으면 mapping파라미터를 사용해 지정할 수 있다. "
      ]
    },
    {
      "cell_type": "markdown",
      "metadata": {
        "id": "iQwXm9GhXX5_"
      },
      "source": [
        "##여기서부터는 최적의 파라미터 찾기 위한 개인노력"
      ]
    },
    {
      "cell_type": "code",
      "metadata": {
        "id": "DpHkzydcIadG",
        "colab": {
          "base_uri": "https://localhost:8080/"
        },
        "outputId": "bbd193a7-3d2c-400c-a021-6e9e7410d617"
      },
      "source": [
        "#하이퍼 파라미터 조정하면서 해보기\n",
        "pipe_rd = make_pipeline(\n",
        "    OrdinalEncoder(),\n",
        "    SimpleImputer(),\n",
        "    RandomForestClassifier(n_jobs = -1, random_state = 2, oob_score= True)\n",
        ")\n",
        "\n",
        "from pprint import pprint\n",
        "print('Parameters currently in use:\\n')\n",
        "pprint(pipe_rd['randomforestclassifier'].get_params())"
      ],
      "execution_count": null,
      "outputs": [
        {
          "output_type": "stream",
          "text": [
            "Parameters currently in use:\n",
            "\n",
            "{'bootstrap': True,\n",
            " 'ccp_alpha': 0.0,\n",
            " 'class_weight': None,\n",
            " 'criterion': 'gini',\n",
            " 'max_depth': None,\n",
            " 'max_features': 'auto',\n",
            " 'max_leaf_nodes': None,\n",
            " 'max_samples': None,\n",
            " 'min_impurity_decrease': 0.0,\n",
            " 'min_impurity_split': None,\n",
            " 'min_samples_leaf': 1,\n",
            " 'min_samples_split': 2,\n",
            " 'min_weight_fraction_leaf': 0.0,\n",
            " 'n_estimators': 100,\n",
            " 'n_jobs': -1,\n",
            " 'oob_score': True,\n",
            " 'random_state': 2,\n",
            " 'verbose': 0,\n",
            " 'warm_start': False}\n"
          ],
          "name": "stdout"
        }
      ]
    },
    {
      "cell_type": "code",
      "metadata": {
        "id": "_-nPJXxOqVGb",
        "colab": {
          "base_uri": "https://localhost:8080/"
        },
        "outputId": "79bcc79c-582a-43bc-e822-b2dfbadac505"
      },
      "source": [
        "#Random Search with Cross Validation\n",
        "\n",
        "from sklearn.model_selection import RandomizedSearchCV\n",
        "import numpy as np\n",
        "\n",
        "# Number of trees in random forest\n",
        "n_estimators = [int(x) for x in np.linspace(start = 200, stop = 2000, num = 10)]\n",
        "# Number of features to consider at every split\n",
        "max_features = ['auto', 'sqrt']\n",
        "# Maximum number of levels in tree\n",
        "max_depth = [int(x) for x in np.linspace(10, 110, num = 11)]\n",
        "max_depth.append(None)\n",
        "#minimum number of samples required to split  node\n",
        "min_samples_split = [2,5,10]\n",
        "#minimum number of samples required at each leaf node\n",
        "min_samples_leaf= [1,2,4]\n",
        "#mothod of selecting samples for trainnig each tree\n",
        "bootstrap = [True, False]\n",
        "\n",
        "#Create the random grid(랜덤 그리드를 만들어보자)\n",
        "random_grid = {'n_estimators': n_estimators,\n",
        "               'max_features': max_features,\n",
        "               'max_depth': max_depth,\n",
        "               'min_samples_split': min_samples_split,\n",
        "               'min_samples_leaf': min_samples_leaf,\n",
        "               'bootstrap': bootstrap}\n",
        "\n",
        "pprint(random_grid)"
      ],
      "execution_count": null,
      "outputs": [
        {
          "output_type": "stream",
          "text": [
            "{'bootstrap': [True, False],\n",
            " 'max_depth': [10, 20, 30, 40, 50, 60, 70, 80, 90, 100, 110, None],\n",
            " 'max_features': ['auto', 'sqrt'],\n",
            " 'min_samples_leaf': [1, 2, 4],\n",
            " 'min_samples_split': [2, 5, 10],\n",
            " 'n_estimators': [200, 400, 600, 800, 1000, 1200, 1400, 1600, 1800, 2000]}\n"
          ],
          "name": "stdout"
        }
      ]
    },
    {
      "cell_type": "code",
      "metadata": {
        "id": "dow5dXxqr9ug",
        "colab": {
          "base_uri": "https://localhost:8080/"
        },
        "outputId": "73265cea-080b-412b-8746-727102c53786"
      },
      "source": [
        "#만든 랜덤 그리드를 사용해 베스트 하이퍼마라미터를 찾아보자\n",
        "\n",
        "#일단 기준모델 만들기\n",
        "%%time\n",
        "from sklearn.ensemble import RandomForestRegressor\n",
        "rf = RandomForestRegressor(random_state = 42)\n",
        "\n",
        "#RandomizedSearchCV에서 제일 중요한 것은 n_iter과 cv의 개수인다. \n",
        "#3개의 cv를 사용해보자. n_iter= 100으로 하자. n_iter은 다른 콤비네이션을 몇 번 시도할 것인지를 정한다. \n",
        "rf_random = RandomizedSearchCV(estimator=rf, param_distributions=random_grid,\n",
        "                              n_iter = 100, scoring='neg_mean_absolute_error', \n",
        "                              cv = 3, verbose=2, random_state=42, n_jobs=-1,\n",
        "                              return_train_score=True)\n",
        "\n",
        "#파이프에 넣어서 전처리 하고 랜덤서치 검증 돌리기\n",
        "pipe_temp =make_pipeline(\n",
        "    OrdinalEncoder(),\n",
        "    SimpleImputer(),\n",
        "    rf_random\n",
        ")\n",
        "\n",
        "pipe_temp.fit(X_train,y_train)"
      ],
      "execution_count": null,
      "outputs": [
        {
          "output_type": "stream",
          "text": [
            "Fitting 3 folds for each of 100 candidates, totalling 300 fits\n"
          ],
          "name": "stdout"
        },
        {
          "output_type": "stream",
          "text": [
            "[Parallel(n_jobs=-1)]: Using backend LokyBackend with 2 concurrent workers.\n",
            "/usr/local/lib/python3.7/dist-packages/joblib/externals/loky/process_executor.py:691: UserWarning: A worker stopped while some jobs were given to the executor. This can be caused by a too short worker timeout or by a memory leak.\n",
            "  \"timeout or by a memory leak.\", UserWarning\n",
            "[Parallel(n_jobs=-1)]: Done  37 tasks      | elapsed: 39.2min\n"
          ],
          "name": "stderr"
        }
      ]
    },
    {
      "cell_type": "code",
      "metadata": {
        "id": "dtTK0pcNwo9J"
      },
      "source": [
        "pipe.temp.best_parmas_"
      ],
      "execution_count": null,
      "outputs": []
    },
    {
      "cell_type": "code",
      "metadata": {
        "id": "b3nmAxv0XorO"
      },
      "source": [
        "#캐글에 파일제출\n",
        "y_pred_test = pipe_or.predict(X_test)\n",
        "sub = pd.read_csv('submission.csv')\n",
        "sub['vacc_h1n1_f']=y_pred_test\n",
        "sub.to_csv('sub.csv', index = False)"
      ],
      "execution_count": null,
      "outputs": []
    },
    {
      "cell_type": "code",
      "metadata": {
        "id": "x8Sw1fr9X3PG",
        "colab": {
          "base_uri": "https://localhost:8080/",
          "height": 399
        },
        "outputId": "fb1397cc-4314-4b0a-ea2d-2987e81a1e56"
      },
      "source": [
        "pd.read_csv('/content/sub.csv')"
      ],
      "execution_count": null,
      "outputs": [
        {
          "output_type": "execute_result",
          "data": {
            "text/html": [
              "<div>\n",
              "<style scoped>\n",
              "    .dataframe tbody tr th:only-of-type {\n",
              "        vertical-align: middle;\n",
              "    }\n",
              "\n",
              "    .dataframe tbody tr th {\n",
              "        vertical-align: top;\n",
              "    }\n",
              "\n",
              "    .dataframe thead th {\n",
              "        text-align: right;\n",
              "    }\n",
              "</style>\n",
              "<table border=\"1\" class=\"dataframe\">\n",
              "  <thead>\n",
              "    <tr style=\"text-align: right;\">\n",
              "      <th></th>\n",
              "      <th>Id</th>\n",
              "      <th>vacc_h1n1_f</th>\n",
              "    </tr>\n",
              "  </thead>\n",
              "  <tbody>\n",
              "    <tr>\n",
              "      <th>0</th>\n",
              "      <td>0</td>\n",
              "      <td>0</td>\n",
              "    </tr>\n",
              "    <tr>\n",
              "      <th>1</th>\n",
              "      <td>1</td>\n",
              "      <td>0</td>\n",
              "    </tr>\n",
              "    <tr>\n",
              "      <th>2</th>\n",
              "      <td>2</td>\n",
              "      <td>0</td>\n",
              "    </tr>\n",
              "    <tr>\n",
              "      <th>3</th>\n",
              "      <td>3</td>\n",
              "      <td>0</td>\n",
              "    </tr>\n",
              "    <tr>\n",
              "      <th>4</th>\n",
              "      <td>4</td>\n",
              "      <td>0</td>\n",
              "    </tr>\n",
              "    <tr>\n",
              "      <th>...</th>\n",
              "      <td>...</td>\n",
              "      <td>...</td>\n",
              "    </tr>\n",
              "    <tr>\n",
              "      <th>28099</th>\n",
              "      <td>28099</td>\n",
              "      <td>0</td>\n",
              "    </tr>\n",
              "    <tr>\n",
              "      <th>28100</th>\n",
              "      <td>28100</td>\n",
              "      <td>0</td>\n",
              "    </tr>\n",
              "    <tr>\n",
              "      <th>28101</th>\n",
              "      <td>28101</td>\n",
              "      <td>0</td>\n",
              "    </tr>\n",
              "    <tr>\n",
              "      <th>28102</th>\n",
              "      <td>28102</td>\n",
              "      <td>0</td>\n",
              "    </tr>\n",
              "    <tr>\n",
              "      <th>28103</th>\n",
              "      <td>28103</td>\n",
              "      <td>0</td>\n",
              "    </tr>\n",
              "  </tbody>\n",
              "</table>\n",
              "<p>28104 rows × 2 columns</p>\n",
              "</div>"
            ],
            "text/plain": [
              "          Id  vacc_h1n1_f\n",
              "0          0            0\n",
              "1          1            0\n",
              "2          2            0\n",
              "3          3            0\n",
              "4          4            0\n",
              "...      ...          ...\n",
              "28099  28099            0\n",
              "28100  28100            0\n",
              "28101  28101            0\n",
              "28102  28102            0\n",
              "28103  28103            0\n",
              "\n",
              "[28104 rows x 2 columns]"
            ]
          },
          "metadata": {
            "tags": []
          },
          "execution_count": 42
        }
      ]
    },
    {
      "cell_type": "markdown",
      "metadata": {
        "id": "lby0jlCPBuks"
      },
      "source": [
        "\n",
        "## 🔥 도전과제"
      ]
    },
    {
      "cell_type": "markdown",
      "metadata": {
        "id": "fYSSJ_FkBukt"
      },
      "source": [
        "### 3) 수업에 사용하지 않은 다른 종류의 [category_encoders](http://contrib.scikit-learn.org/category_encoders/)을 적용해 보고 인코더에 대해 설명하세요\n"
      ]
    },
    {
      "cell_type": "code",
      "metadata": {
        "id": "FYasNe6TBuku"
      },
      "source": [
        "### 이곳에서 과제를 진행해 주세요 ###"
      ],
      "execution_count": null,
      "outputs": []
    },
    {
      "cell_type": "markdown",
      "metadata": {
        "id": "hK9HlxA8Bukv"
      },
      "source": [
        "## 참고자료\n",
        "\n",
        "- [Random Forests for Complete Beginners](https://victorzhou.com/blog/intro-to-random-forests/)"
      ]
    }
  ]
}